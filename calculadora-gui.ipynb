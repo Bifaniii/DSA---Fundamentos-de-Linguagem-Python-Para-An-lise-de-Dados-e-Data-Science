{
 "cells": [
  {
   "cell_type": "code",
   "execution_count": 29,
   "id": "20d30abe-571a-4817-92f4-f318487243de",
   "metadata": {
    "scrolled": true
   },
   "outputs": [
    {
     "name": "stdout",
     "output_type": "stream",
     "text": [
      "\n",
      "******************* Calculadora em Python *******************\n",
      "Digite a operação que deseja realizar:\n",
      "1- Soma \n",
      "2- Subtração \n",
      "3- Multiplicação \n",
      "4- Divisão\n",
      "-=--=--=--=--=--=--=--=--=--=--=--=--=--=--=--=--=--=--=--=-\n"
     ]
    },
    {
     "name": "stdin",
     "output_type": "stream",
     "text": [
      "Operação:  3\n"
     ]
    },
    {
     "name": "stdout",
     "output_type": "stream",
     "text": [
      "-=--=--=--=--=--=--=--=--=--=--=--=--=--=--=--=--=--=--=--=-\n"
     ]
    },
    {
     "name": "stdin",
     "output_type": "stream",
     "text": [
      "Digite o primeiro número:  5\n",
      "Digite o segundo número:  5\n"
     ]
    },
    {
     "name": "stdout",
     "output_type": "stream",
     "text": [
      "O resultado da multiplicação entre 5 e 5 é 25\n",
      "-=--=--=--=--=--=--=--=--=--=--=--=--=--=--=--=--=--=--=--=-\n",
      "FIM!\n"
     ]
    }
   ],
   "source": [
    "# Calculadora em Python\n",
    "\n",
    "# Desenvolva uma calculadora em Python com tudo que você aprendeu nos capítulos até aqui no curso. \n",
    "# A solução será apresentada no próximo capítulo!\n",
    "\n",
    "print(\"\\n******************* Calculadora em Python *******************\")\n",
    "\n",
    "def somar(n1, n2):\n",
    "    return(n1 + n2)\n",
    "    \n",
    "def subtracao(n1, n2):\n",
    "    return n1 - n2\n",
    "    \n",
    "def multiplicacao(n1, n2):\n",
    "    return n1 * n2\n",
    "\n",
    "def divisao(n1, n2):\n",
    "    return n1 / n2\n",
    "\n",
    "print(\"Digite a operação que deseja realizar:\")\n",
    "print(\"1- Soma \\n2- Subtração \\n3- Multiplicação \\n4- Divisão\")\n",
    "print(\"-=-\"*20)\n",
    "op = int(input(\"Operação: \"))\n",
    "\n",
    "if op > 4 or op <= 0:\n",
    "    print(\"ERRO NO PROGRAMA!\")\n",
    "    print(\"-=-\"*20)\n",
    "    print(\"FIM!\")\n",
    "\n",
    "print(\"-=-\"*20)\n",
    "if op == 1:\n",
    "    n1 = int(input(\"Digite o primeiro número: \"))\n",
    "    n2 = int(input(\"Digite o segundo número: \"))\n",
    "    print(f\"O resultado da soma entre {n1} e {n2} é\", somar(n1,n2))\n",
    "    print(\"-=-\"*20)\n",
    "    print(\"FIM!\")\n",
    "\n",
    "if op == 2:\n",
    "    n1 = int(input(\"Digite o primeiro número: \"))\n",
    "    n2 = int(input(\"Digite o segundo número: \"))\n",
    "    print(f\"O resultado da subtração entre {n1} e {n2} é\", subtracao(n1,n2))\n",
    "    print(\"-=-\"*20)\n",
    "    print(\"FIM!\")\n",
    "\n",
    "if op == 3:\n",
    "    n1 = int(input(\"Digite o primeiro número: \"))\n",
    "    n2 = int(input(\"Digite o segundo número: \"))\n",
    "    print(f\"O resultado da multiplicação entre {n1} e {n2} é\", multiplicacao(n1,n2))\n",
    "    print(\"-=-\"*20)\n",
    "    print(\"FIM!\")\n",
    "\n",
    "if op == 4:\n",
    "    n1 = int(input(\"Digite o primeiro número: \"))\n",
    "    n2 = int(input(\"Digite o segundo número: \"))\n",
    "    print(f\"O resultado da divisão entre {n1} e {n2} é\", divisao(n1,n2))\n",
    "    print(\"-=-\"*20)\n",
    "    print(\"FIM!\")"
   ]
  }
 ],
 "metadata": {
  "kernelspec": {
   "display_name": "Python 3 (ipykernel)",
   "language": "python",
   "name": "python3"
  },
  "language_info": {
   "codemirror_mode": {
    "name": "ipython",
    "version": 3
   },
   "file_extension": ".py",
   "mimetype": "text/x-python",
   "name": "python",
   "nbconvert_exporter": "python",
   "pygments_lexer": "ipython3",
   "version": "3.12.7"
  }
 },
 "nbformat": 4,
 "nbformat_minor": 5
}
